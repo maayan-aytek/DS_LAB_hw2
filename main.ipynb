{
 "cells": [
  {
   "cell_type": "code",
   "execution_count": 1,
   "metadata": {},
   "outputs": [
    {
     "name": "stderr",
     "output_type": "stream",
     "text": [
      "/anaconda/envs/hw_094295_env/lib/python3.9/site-packages/tqdm/auto.py:22: TqdmWarning: IProgress not found. Please update jupyter and ipywidgets. See https://ipywidgets.readthedocs.io/en/stable/user_install.html\n",
      "  from .autonotebook import tqdm as notebook_tqdm\n"
     ]
    }
   ],
   "source": [
    "import copy\n",
    "import os\n",
    "import time\n",
    "\n",
    "import matplotlib.pyplot as plt\n",
    "import numpy as np\n",
    "import torch\n",
    "import torch.nn as nn\n",
    "import torch.optim as optim\n",
    "import torchvision\n",
    "from torch.optim import lr_scheduler\n",
    "from torchvision import datasets, models, transforms\n",
    "from tqdm import tqdm\n",
    "import csv\n",
    "from torchvision.utils import save_image\n",
    "import numpy as np\n",
    "from skimage.transform import PiecewiseAffineTransform, warp\n",
    "from random import randrange\n",
    "from numpy import asarray\n",
    "from PIL import Image, ImageOps, ImageChops, ImageDraw, ImageFilter\n",
    "import random"
   ]
  },
  {
   "cell_type": "code",
   "execution_count": 2,
   "metadata": {},
   "outputs": [],
   "source": [
    "# Define constants\n",
    "BATCH_SIZE = 16\n",
    "NUM_EPOCHS = 20\n",
    "LR = 0.001\n",
    "np.random.seed(0)\n",
    "torch.manual_seed(0)\n",
    "\n",
    "base_dir = os.path.join(\"/home/student/hw2_094295\", \"data_original\")\n",
    "train_dir = os.path.join(base_dir, \"train\")\n",
    "val_dir = os.path.join(base_dir, \"val\")\n",
    "device = torch.device(\"cuda:0\" if torch.cuda.is_available() else \"cpu\")\n",
    "\n",
    "transform = transforms.ToPILImage()\n",
    "rotation = transforms.Compose([transforms.Resize([120,120]), transforms.RandomRotation(20, fill=1)]) \n",
    "crop = transforms.Compose([transforms.Resize([120,120]),transforms.RandomCrop(110, padding=20)])\n",
    "crop_from_PIL = transforms.Compose([transforms.PILToTensor(), transforms.Resize([120,120]),transforms.RandomCrop(110, padding=20)])\n",
    "# f = open('/home/student/hw2_094295/attempts.csv', 'a')\n",
    "# writer = csv.writer(f)\n",
    "# writer.writerow([\"description\", \"acc_dict\", \"final_acc_train\", \"final_acc_val\"])\n",
    "# f.close()"
   ]
  },
  {
   "attachments": {},
   "cell_type": "markdown",
   "metadata": {},
   "source": [
    "### Noise functions"
   ]
  },
  {
   "cell_type": "code",
   "execution_count": 28,
   "metadata": {},
   "outputs": [],
   "source": [
    "def salt_and_pepper_augmentation(image, amount):\n",
    "    output = np.copy(np.array(image))\n",
    "    \n",
    "    # add salt\n",
    "    nb_salt = np.ceil(amount * output.size * 0.5)\n",
    "    coords = [np.random.randint(0, i - 1, int(nb_salt)) for i in output.shape]\n",
    "    output[tuple(coords)] = 255\n",
    "    \n",
    "    # add pepper\n",
    "    nb_pepper = np.ceil(amount * output.size * 0.5)\n",
    "    coords = [np.random.randint(0, i - 1, int(nb_pepper)) for i in output.shape]\n",
    "    output[tuple(coords)] = 0\n",
    "    \n",
    "    return Image.fromarray(output)\n"
   ]
  },
  {
   "cell_type": "code",
   "execution_count": 4,
   "metadata": {},
   "outputs": [
    {
     "data": {
      "image/png": "[encoded data removed]",
      "text/plain": [
       "<Figure size 432x288 with 1 Axes>"
      ]
     },
     "metadata": {
      "needs_background": "light"
     },
     "output_type": "display_data"
    }
   ],
   "source": [
    "img = Image.open(\"/home/student/hw2_094295/data/train/i/ab4e0182-ce5d-11eb-b317-38f9d35ea60f.png\")\n",
    "plt.imshow(img, cmap=\"gray\")\n",
    "plt.show()"
   ]
  },
  {
   "attachments": {},
   "cell_type": "markdown",
   "metadata": {},
   "source": [
    "# Pre processing"
   ]
  },
  {
   "cell_type": "code",
   "execution_count": 3,
   "metadata": {},
   "outputs": [],
   "source": [
    "def load_datasets(train_directory, val_directory, type_of_transform):\n",
    "    \"\"\"Loads and transforms the datasets.\"\"\"\n",
    "\n",
    "    data_transforms_with_crop = transforms.Compose([transforms.Resize([120,120]), \n",
    "                                                    transforms.ToTensor(), \n",
    "                                                    transforms.RandomCrop(110, padding=20)])\n",
    "    \n",
    "    data_transforms_with_rotation = transforms.Compose([transforms.Resize([120,120]), \n",
    "                                                    transforms.ToTensor(), \n",
    "                                                    transforms.RandomRotation(20, fill=1)])    \n",
    "    \n",
    "    data_transforms = transforms.Compose([transforms.ToTensor()])\n",
    "    \n",
    "    if type_of_transform == \"random crop\":\n",
    "        # Create a pytorch dataset from a directory of images\n",
    "        train_dataset = datasets.ImageFolder(train_directory, data_transforms_with_crop)\n",
    "        val_dataset = datasets.ImageFolder(val_directory, data_transforms_with_crop)\n",
    "\n",
    "    if type_of_transform == \"random rotation\":\n",
    "        # Create a pytorch dataset from a directory of images\n",
    "        train_dataset = datasets.ImageFolder(train_directory, data_transforms_with_rotation)\n",
    "        val_dataset = datasets.ImageFolder(val_directory, data_transforms_with_rotation)\n",
    "\n",
    "    if type_of_transform == \"regular\":\n",
    "        # Create a pytorch dataset from a directory of images\n",
    "        train_dataset = datasets.ImageFolder(train_directory, data_transforms)\n",
    "        val_dataset = datasets.ImageFolder(val_directory, data_transforms)\n",
    "        \n",
    "\n",
    "    return train_dataset, val_dataset\n"
   ]
  },
  {
   "cell_type": "code",
   "execution_count": 4,
   "metadata": {},
   "outputs": [
    {
     "name": "stdout",
     "output_type": "stream",
     "text": [
      "['i', 'ii', 'iii', 'iv', 'ix', 'v', 'vi', 'vii', 'viii', 'x']\n"
     ]
    }
   ],
   "source": [
    "# Extracting class names\n",
    "original_train_dataset, original_val_dataset = load_datasets(train_dir, val_dir, \"random crop\")\n",
    "class_names = original_train_dataset.classes\n",
    "print(class_names)"
   ]
  },
  {
   "attachments": {},
   "cell_type": "markdown",
   "metadata": {},
   "source": [
    "### Saving original images by the order of the reading in the dataset"
   ]
  },
  {
   "cell_type": "code",
   "execution_count": 20,
   "metadata": {},
   "outputs": [
    {
     "name": "stderr",
     "output_type": "stream",
     "text": [
      "100%|██████████| 10/10 [00:27<00:00,  2.74s/it]\n"
     ]
    }
   ],
   "source": [
    "# Creating folder and labels sub-folders\n",
    "os.mkdir(\"/home/student/hw2_094295/augmentations\")\n",
    "os.mkdir(\"/home/student/hw2_094295/augmentations/Regular\")\n",
    "original_train_dataset, original_val_dataset = load_datasets(train_dir, val_dir, \"Regular\")\n",
    "\n",
    "for label in class_names:\n",
    "     path = os.path.join(\"/home/student/hw2_094295/augmentations/Regular\", label)\n",
    "     os.mkdir(path)\n",
    "\n",
    "# path of dir\n",
    "aug_dir = \"/home/student/hw2_094295/augmentations/Regular\"\n",
    "\n",
    "# creating images and saving them\n",
    "label_index = 0\n",
    "for label in tqdm(class_names):\n",
    "    label_dir = os.path.join(aug_dir, label)\n",
    "    for dataset in [original_train_dataset, original_val_dataset]:\n",
    "        indices = [i for i in range(len(dataset)) if dataset[i][1] == label_index]\n",
    "        for idx in indices:\n",
    "            save_image(dataset[idx][0], label_dir + f\"/{label}_{idx}_Regular.png\")\n",
    "    label_index+=1"
   ]
  },
  {
   "attachments": {},
   "cell_type": "markdown",
   "metadata": {},
   "source": [
    "### indexing the Regular images"
   ]
  },
  {
   "cell_type": "code",
   "execution_count": 41,
   "metadata": {},
   "outputs": [
    {
     "name": "stderr",
     "output_type": "stream",
     "text": [
      "100%|██████████| 10/10 [00:32<00:00,  3.29s/it]\n"
     ]
    }
   ],
   "source": [
    "# path of dir\n",
    "os.mkdir(\"/home/student/hw2_094295/all_augmentations/Regular\")\n",
    "for label in class_names:\n",
    "     path = os.path.join(\"/home/student/hw2_094295/all_augmentations/Regular\", label)\n",
    "     os.mkdir(path)\n",
    "\n",
    "dataset, _ = load_datasets(\"/home/student/hw2_094295/Regular\", val_dir, \"regular\")\n",
    "aug_dir = \"/home/student/hw2_094295/all_augmentations/Regular\"\n",
    "\n",
    "# creating images and saving them\n",
    "label_index = 0\n",
    "for label in tqdm(class_names):\n",
    "    label_dir = os.path.join(aug_dir, label)\n",
    "    indices = [i for i in range(len(dataset)) if dataset[i][1] == label_index]\n",
    "    for idx in indices:\n",
    "        save_image(dataset[idx][0], label_dir + f\"/{label}_{idx}_Regular.png\")\n",
    "    label_index+=1"
   ]
  },
  {
   "attachments": {},
   "cell_type": "markdown",
   "metadata": {},
   "source": [
    "### Saving images with salt&pepper noise applied"
   ]
  },
  {
   "cell_type": "code",
   "execution_count": 42,
   "metadata": {},
   "outputs": [
    {
     "name": "stderr",
     "output_type": "stream",
     "text": [
      "100%|██████████| 10/10 [00:43<00:00,  4.39s/it]\n"
     ]
    }
   ],
   "source": [
    "# Creating folder and labels sub-folders\n",
    "os.mkdir(\"/home/student/hw2_094295/all_augmentations/salt_and_pepper\")\n",
    "\n",
    "for label in class_names:\n",
    "     path = os.path.join(\"/home/student/hw2_094295/all_augmentations/salt_and_pepper\", label)\n",
    "     os.mkdir(path)\n",
    "\n",
    "# path of dir\n",
    "aug_dir = \"/home/student/hw2_094295/all_augmentations/salt_and_pepper\"\n",
    "\n",
    "# creating noised images and saving them\n",
    "label_index = 0\n",
    "for label in tqdm(class_names):\n",
    "    label_dir = os.path.join(aug_dir, label)\n",
    "    indices = [i for i in range(len(dataset)) if dataset[i][1] == label_index]\n",
    "    for idx in indices:\n",
    "        image_from_tensor = transform(dataset[idx][0]).convert('L')\n",
    "        image = salt_and_pepper_augmentation(image_from_tensor, 0.4)\n",
    "        image.save(f\"{label_dir}/{label}_{idx}_s&p.png\")\n",
    "    label_index+=1\n"
   ]
  },
  {
   "attachments": {},
   "cell_type": "markdown",
   "metadata": {},
   "source": [
    "### Saving images with Random crop applied"
   ]
  },
  {
   "cell_type": "code",
   "execution_count": 51,
   "metadata": {},
   "outputs": [
    {
     "name": "stderr",
     "output_type": "stream",
     "text": [
      "100%|██████████| 10/10 [00:28<00:00,  2.83s/it]\n"
     ]
    }
   ],
   "source": [
    "# Creating folder and labels sub-folders\n",
    "os.mkdir(\"/home/student/hw2_094295/all_augmentations/Random_crop\")\n",
    "\n",
    "for label in class_names:\n",
    "     path = os.path.join(\"/home/student/hw2_094295/all_augmentations/Random_crop\", label)\n",
    "     os.mkdir(path)\n",
    "\n",
    "# path of dir\n",
    "aug_dir = \"/home/student/hw2_094295/all_augmentations/Random_crop\"\n",
    "\n",
    "# creating noised images and saving them\n",
    "label_index = 0\n",
    "for label in tqdm(class_names):\n",
    "    label_dir = os.path.join(aug_dir, label)\n",
    "    indices = [i for i in range(len(dataset)) if dataset[i][1] == label_index]\n",
    "    for idx in indices:\n",
    "        save_image(crop(dataset[idx][0]), label_dir + f\"/{label}_{idx}_RandomCrop.png\")\n",
    "    label_index+=1"
   ]
  },
  {
   "attachments": {},
   "cell_type": "markdown",
   "metadata": {},
   "source": [
    "### Saving images with noise from other images applied"
   ]
  },
  {
   "cell_type": "code",
   "execution_count": 58,
   "metadata": {},
   "outputs": [
    {
     "name": "stderr",
     "output_type": "stream",
     "text": [
      "100%|██████████| 10/10 [00:32<00:00,  3.25s/it]\n"
     ]
    }
   ],
   "source": [
    "# Creating folder and labels sub-folders\n",
    "os.mkdir(\"/home/student/hw2_094295/all_augmentations/noised_by_other\")\n",
    "\n",
    "for label in class_names:\n",
    "     path = os.path.join(\"/home/student/hw2_094295/all_augmentations/noised_by_other\", label)\n",
    "     os.mkdir(path)\n",
    "\n",
    "noise_dir = \"/home/student/hw2_094295/all_augmentations/noised_by_other\"\n",
    "\n",
    "# creating noised images and saving them\n",
    "label_index = 0\n",
    "for label in tqdm(class_names):\n",
    "    label_dir = os.path.join(noise_dir, label)\n",
    "    indices = [i for i in range(len(dataset)) if dataset[i][1] == label_index]\n",
    "    for idx in indices:\n",
    "        source_image = transform(dataset[idx][0]).convert('L')\n",
    "        noise_path = \"/home/student/hw2_094295/noisy_background/noise_\" + str(np.random.randint(0,20))+\".png\"\n",
    "        noise_image = Image.open(noise_path).convert('L').resize(source_image.size)\n",
    "\n",
    "        random_choice = np.random.randint(1, 4)\n",
    "        if random_choice == 1:\n",
    "            noise_image = noise_image.transpose(Image.FLIP_TOP_BOTTOM)\n",
    "        elif random_choice == 2:\n",
    "            noise_image = ImageOps.mirror(noise_image)\n",
    "        else:\n",
    "            noise_image = noise_image.transpose(Image.FLIP_TOP_BOTTOM)\n",
    "            noise_image = ImageOps.mirror(noise_image)\n",
    "\n",
    "        noisy_image = Image.blend(source_image.convert('L'), noise_image, 0.3)\n",
    "        noisy_image.save(f\"{label_dir}/{label}_{idx}_NoiseByOther.png\")\n",
    "\n",
    "    label_index+=1\n"
   ]
  },
  {
   "attachments": {},
   "cell_type": "markdown",
   "metadata": {},
   "source": [
    "### Saving images with Random Rotation of 20 degrees applied"
   ]
  },
  {
   "cell_type": "code",
   "execution_count": 61,
   "metadata": {},
   "outputs": [
    {
     "name": "stderr",
     "output_type": "stream",
     "text": [
      "100%|██████████| 10/10 [00:29<00:00,  2.94s/it]\n"
     ]
    }
   ],
   "source": [
    "# Creating folder and labels sub-folders\n",
    "os.mkdir(\"/home/student/hw2_094295/all_augmentations/Random_rotation\")\n",
    "\n",
    "for label in class_names:\n",
    "     path = os.path.join(\"/home/student/hw2_094295/all_augmentations/Random_rotation\", label)\n",
    "     os.mkdir(path)\n",
    "\n",
    "# path of dir\n",
    "aug_dir = \"/home/student/hw2_094295/all_augmentations/Random_rotation\"\n",
    "\n",
    "# creating noised images and saving them\n",
    "label_index = 0\n",
    "for label in tqdm(class_names):\n",
    "    label_dir = os.path.join(aug_dir, label)\n",
    "    indices = [i for i in range(len(dataset)) if dataset[i][1] == label_index]\n",
    "    for idx in indices:\n",
    "        save_image(rotation(dataset[idx][0]), label_dir + f\"/{label}_{idx}_RandomRotation.png\")\n",
    "    label_index+=1"
   ]
  },
  {
   "attachments": {},
   "cell_type": "markdown",
   "metadata": {},
   "source": [
    "### saving rotated and cropped images with salt & pepper noise"
   ]
  },
  {
   "cell_type": "code",
   "execution_count": 65,
   "metadata": {},
   "outputs": [
    {
     "name": "stderr",
     "output_type": "stream",
     "text": [
      "100%|██████████| 10/10 [00:34<00:00,  3.42s/it]\n"
     ]
    }
   ],
   "source": [
    "# # Creating folder and labels sub-folders\n",
    "# os.mkdir(\"/home/student/hw2_094295/all_augmentations/Rotation_with_salt_and_pepper\")\n",
    "\n",
    "# for label in class_names:\n",
    "#      path = os.path.join(\"/home/student/hw2_094295/all_augmentations/Rotation_with_salt_and_pepper\", label)\n",
    "#      os.mkdir(path)\n",
    "\n",
    "# # path of dir\n",
    "# aug_dir = \"/home/student/hw2_094295/all_augmentations/Rotation_with_salt_and_pepper\"\n",
    "\n",
    "# # creating noised images and saving them\n",
    "# label_index = 0\n",
    "# for label in tqdm(class_names):\n",
    "#     label_dir = os.path.join(aug_dir, label)\n",
    "#     indices = [i for i in range(len(dataset)) if dataset[i][1] == label_index]\n",
    "#     for idx in indices:\n",
    "#         image_from_tensor = transform(rotation(dataset[idx][0])).convert('L')\n",
    "#         image = salt_and_pepper_augmentation(image_from_tensor, 0.4)\n",
    "#         image.save(f\"{label_dir}/{label}_{idx}_RandomRotationWithS&P.png\")\n",
    "#     label_index+=1\n",
    "\n",
    "\n",
    "# Creating folder and labels sub-folders\n",
    "os.mkdir(\"/home/student/hw2_094295/all_augmentations/Random_crop_with_salt_and_pepper\")\n",
    "\n",
    "for label in class_names:\n",
    "     path = os.path.join(\"/home/student/hw2_094295/all_augmentations/Random_crop_with_salt_and_pepper\", label)\n",
    "     os.mkdir(path)\n",
    "\n",
    "# path of dir\n",
    "aug_dir = \"/home/student/hw2_094295/all_augmentations/Random_crop_with_salt_and_pepper\"\n",
    "\n",
    "# creating noised images and saving them\n",
    "label_index = 0\n",
    "for label in tqdm(class_names):\n",
    "    label_dir = os.path.join(aug_dir, label)\n",
    "    indices = [i for i in range(len(dataset)) if dataset[i][1] == label_index]\n",
    "    for idx in indices:\n",
    "        image_from_tensor = transform(dataset[idx][0]).convert('L')\n",
    "        sp_image = salt_and_pepper_augmentation(image_from_tensor, 0.4)\n",
    "        new_tensor = crop_from_PIL(sp_image)\n",
    "        image = transform(new_tensor).convert('L')\n",
    "        image.save(f\"{label_dir}/{label}_{idx}_RandomCropWithS&P.png\")\n",
    "    label_index+=1"
   ]
  },
  {
   "attachments": {},
   "cell_type": "markdown",
   "metadata": {},
   "source": [
    "### Saving rotated and cropped images with noise from other images applied"
   ]
  },
  {
   "cell_type": "code",
   "execution_count": 66,
   "metadata": {},
   "outputs": [
    {
     "name": "stderr",
     "output_type": "stream",
     "text": [
      "100%|██████████| 10/10 [00:30<00:00,  3.00s/it]\n",
      "100%|██████████| 10/10 [00:33<00:00,  3.32s/it]\n"
     ]
    }
   ],
   "source": [
    "# Creating folder and labels sub-folders\n",
    "os.mkdir(\"/home/student/hw2_094295/all_augmentations/Rotation_with_noise_by_other\")\n",
    "\n",
    "for label in class_names:\n",
    "     path = os.path.join(\"/home/student/hw2_094295/all_augmentations/Rotation_with_noise_by_other\", label)\n",
    "     os.mkdir(path)\n",
    "\n",
    "# path of dir\n",
    "aug_dir = \"/home/student/hw2_094295/all_augmentations/Rotation_with_noise_by_other\"\n",
    "\n",
    "# creating noised images and saving them\n",
    "label_index = 0\n",
    "for label in tqdm(class_names):\n",
    "    label_dir = os.path.join(aug_dir, label)\n",
    "    indices = [i for i in range(len(dataset)) if dataset[i][1] == label_index]\n",
    "    for idx in indices:\n",
    "        source_image = transform(rotation(dataset[idx][0])).convert('L')\n",
    "        noise_path = \"/home/student/hw2_094295/noisy_background/noise_\" + str(np.random.randint(0,20)) + \".png\"\n",
    "        noise_image = Image.open(noise_path).convert('L').resize(source_image.size)\n",
    "\n",
    "        random_choice = np.random.randint(1, 4)\n",
    "        if random_choice == 1:\n",
    "            noise_image = noise_image.transpose(Image.FLIP_TOP_BOTTOM)\n",
    "        elif random_choice == 2:\n",
    "            noise_image = ImageOps.mirror(noise_image)\n",
    "        else:\n",
    "            noise_image = noise_image.transpose(Image.FLIP_TOP_BOTTOM)\n",
    "            noise_image = ImageOps.mirror(noise_image)\n",
    "\n",
    "        noisy_image = Image.blend(source_image.convert('L'), noise_image, 0.3)\n",
    "        noisy_image.save(f\"{label_dir}/{label}_{idx}_RandomRotationWithNoiseByOther.png\")\n",
    "    label_index+=1\n",
    "\n",
    "\n",
    "# Creating folder and labels sub-folders\n",
    "os.mkdir(\"/home/student/hw2_094295/all_augmentations/Random_crop_with_noise_by_other\")\n",
    "\n",
    "for label in class_names:\n",
    "     path = os.path.join(\"/home/student/hw2_094295/all_augmentations/Random_crop_with_noise_by_other\", label)\n",
    "     os.mkdir(path)\n",
    "\n",
    "# path of dir\n",
    "aug_dir = \"/home/student/hw2_094295/all_augmentations/Random_crop_with_noise_by_other\"\n",
    "\n",
    "# creating noised images and saving them\n",
    "label_index = 0\n",
    "for label in tqdm(class_names):\n",
    "    label_dir = os.path.join(aug_dir, label)\n",
    "    indices = [i for i in range(len(dataset)) if dataset[i][1] == label_index]\n",
    "    for idx in indices:\n",
    "        source_image = transform(dataset[idx][0]).convert('L')\n",
    "        noise_path = \"/home/student/hw2_094295/noisy_background/noise_\" + str(np.random.randint(0,20)) + \".png\"\n",
    "        noise_image = Image.open(noise_path).convert('L').resize(source_image.size)\n",
    "\n",
    "        random_choice = np.random.randint(1, 4)\n",
    "        if random_choice == 1:\n",
    "            noise_image = noise_image.transpose(Image.FLIP_TOP_BOTTOM)\n",
    "        elif random_choice == 2:\n",
    "            noise_image = ImageOps.mirror(noise_image)\n",
    "        else:\n",
    "            noise_image = noise_image.transpose(Image.FLIP_TOP_BOTTOM)\n",
    "            noise_image = ImageOps.mirror(noise_image)\n",
    "\n",
    "        noisy_image = Image.blend(source_image.convert('L'), noise_image, 0.3)\n",
    "        new_tensor = crop_from_PIL(noisy_image)\n",
    "        image = transform(new_tensor).convert('L')\n",
    "        image.save(f\"{label_dir}/{label}_{idx}_RandomCropWithNoiseByOther.png\")\n",
    "    label_index+=1"
   ]
  },
  {
   "attachments": {},
   "cell_type": "markdown",
   "metadata": {},
   "source": [
    "### Calculating mean and std of the Images to Normalize them"
   ]
  },
  {
   "cell_type": "code",
   "execution_count": 10,
   "metadata": {},
   "outputs": [],
   "source": [
    "# original_train_dataset, original_val_dataset = load_datasets(train_dir, val_dir)\n",
    "# train_val_sets = torch.utils.data.ConcatDataset([original_train_dataset, original_val_dataset])\n",
    "# images = torch.stack([img_t for img_t, _ in train_val_sets], dim=3)\n",
    "# images_mean = images.view(3, -1).mean(dim=1)\n",
    "# images_std = images.view(3, -1).std(dim=1)\n",
    "# print(f\"images mean: {images_mean}\")\n",
    "# print(f\"images std: {images_std}\")"
   ]
  },
  {
   "attachments": {},
   "cell_type": "markdown",
   "metadata": {},
   "source": [
    "# Creating train and val"
   ]
  },
  {
   "cell_type": "code",
   "execution_count": 9,
   "metadata": {},
   "outputs": [
    {
     "name": "stderr",
     "output_type": "stream",
     "text": [
      "100%|██████████| 10/10 [00:12<00:00,  1.29s/it]\n",
      "100%|██████████| 10/10 [00:17<00:00,  1.79s/it]\n",
      "100%|██████████| 10/10 [00:03<00:00,  2.89it/s]\n",
      "100%|██████████| 10/10 [00:02<00:00,  4.52it/s]\n",
      "100%|██████████| 10/10 [00:01<00:00,  5.16it/s]\n",
      "100%|██████████| 10/10 [00:01<00:00,  6.10it/s]\n",
      "100%|██████████| 10/10 [00:01<00:00,  6.03it/s]\n",
      "100%|██████████| 10/10 [00:02<00:00,  3.96it/s]\n",
      "100%|██████████| 10/10 [00:03<00:00,  2.84it/s]\n"
     ]
    }
   ],
   "source": [
    "if not os.path.exists(\"/home/student/hw2_094295/aug_batches\"):\n",
    "    os.mkdir(\"/home/student/hw2_094295/aug_batches\")\n",
    "\n",
    "filtered_folder = \"/home/student/hw2_094295/filtered_augmentations/\"\n",
    "aug_batches_path = \"/home/student/hw2_094295/aug_batches/\"\n",
    "special_images_path = \"/home/student/hw2_094295/aug_batches/specials/\"\n",
    "\n",
    "\n",
    "folders = os.listdir(filtered_folder)\n",
    "for folder in folders:\n",
    "    for label in tqdm(class_names):\n",
    "        label_dir = os.path.join(filtered_folder + folder, label)\n",
    "        files = os.listdir(label_dir)\n",
    "        for file in files:\n",
    "            params = file.split(\"_\")\n",
    "            file_label = params[0]\n",
    "            file_index = params[1]\n",
    "            if not os.path.exists(aug_batches_path + file_index + \"_\" + label):\n",
    "                os.mkdir(aug_batches_path + file_index + \"_\" + label)\n",
    "            Image.open(label_dir + \"/\" + file).save(aug_batches_path + file_index + \"_\" + label + \"/\" + file)"
   ]
  },
  {
   "cell_type": "code",
   "execution_count": 5,
   "metadata": {},
   "outputs": [
    {
     "data": {
      "image/png": "[encoded data removed]",
      "text/plain": [
       "<Figure size 432x288 with 1 Axes>"
      ]
     },
     "metadata": {},
     "output_type": "display_data"
    },
    {
     "name": "stdout",
     "output_type": "stream",
     "text": [
      "minimal size: 141\n",
      "Number of regular of each label in train: 113\n"
     ]
    }
   ],
   "source": [
    "folders = os.listdir(\"/home/student/hw2_094295/all_augmentations/Regular/\")\n",
    "labels_dict = {}\n",
    "for folder in folders:\n",
    "    labels_dict[folder] = len(os.listdir(f\"/home/student/hw2_094295/all_augmentations/Regular/{folder}\"))\n",
    "\n",
    "sizes = np.array(list(labels_dict.values()))\n",
    "labels = sorted(list(labels_dict.keys()))\n",
    "def absolute_value(val):\n",
    "    a  = int(np.round(val/100.*sizes.sum(), 0))\n",
    "    return a\n",
    "\n",
    "plt.pie(sizes, labels=labels, autopct=absolute_value, rotatelabels=False)\n",
    "plt.title(\"Number of images from each label\")\n",
    "plt.show()\n",
    "\n",
    "min_size = min(sizes)\n",
    "num_reg_in_train = round(0.8*(min(sizes)))\n",
    "print(f\"minimal size: {min_size}\")\n",
    "print(f\"Number of regular of each label in train: {num_reg_in_train}\")"
   ]
  },
  {
   "cell_type": "code",
   "execution_count": 6,
   "metadata": {},
   "outputs": [],
   "source": [
    "dict_train_quantities = {}\n",
    "dict_val_quantities = {}\n",
    "dict_train = {}\n",
    "dict_val = {}\n",
    "\n",
    "for label in class_names:\n",
    "    files = os.listdir(f\"/home/student/hw2_094295/all_augmentations/Regular/{label}\")\n",
    "    to_train = random.sample(files, num_reg_in_train)\n",
    "    dict_train[label] = to_train\n",
    "    dict_val[label] = [file for file in files if file not in to_train]\n",
    "    dict_train_quantities[label] = len(to_train)\n",
    "    dict_val_quantities[label] = len([file for file in files if file not in to_train])\n"
   ]
  },
  {
   "cell_type": "code",
   "execution_count": 7,
   "metadata": {},
   "outputs": [
    {
     "data": {
      "image/png": "[encoded data removed]",
      "text/plain": [
       "<Figure size 432x288 with 1 Axes>"
      ]
     },
     "metadata": {},
     "output_type": "display_data"
    },
    {
     "data": {
      "image/png": "[encoded data removed]",
      "text/plain": [
       "<Figure size 432x288 with 1 Axes>"
      ]
     },
     "metadata": {},
     "output_type": "display_data"
    }
   ],
   "source": [
    "sizes = np.array(list(dict_train_quantities.values()))\n",
    "labels = sorted(list(dict_train_quantities.keys()))\n",
    "def absolute_value(val):\n",
    "    a  = int(np.round(val/100.*sizes.sum(), 0))\n",
    "    return a\n",
    "\n",
    "plt.pie(sizes, labels=labels, autopct=absolute_value, rotatelabels=False)\n",
    "plt.title(\"Number of Regular Train images from each label\")\n",
    "plt.show()\n",
    "\n",
    "sizes = np.array(list(dict_val_quantities.values()))\n",
    "labels = sorted(list(dict_val_quantities.keys()))\n",
    "def absolute_value(val):\n",
    "    a  = int(np.round(val/100.*sizes.sum(), 0))\n",
    "    return a\n",
    "\n",
    "plt.pie(sizes, labels=labels, autopct=absolute_value, rotatelabels=False)\n",
    "plt.title(\"Number of Regular Val images from each label\")\n",
    "plt.show()"
   ]
  },
  {
   "cell_type": "code",
   "execution_count": 39,
   "metadata": {},
   "outputs": [],
   "source": [
    "os.mkdir(\"/home/student/hw2_094295/data/\")\n",
    "os.mkdir(\"/home/student/hw2_094295/data/train\")\n",
    "os.mkdir(\"/home/student/hw2_094295/data/val\")\n",
    "\n",
    "for label in class_names:\n",
    "     path = os.path.join(\"/home/student/hw2_094295/data/train\", label)\n",
    "     os.mkdir(path)\n",
    "\n",
    "for label in class_names:\n",
    "     path = os.path.join(\"/home/student/hw2_094295/data/val\", label)\n",
    "     os.mkdir(path)"
   ]
  },
  {
   "cell_type": "code",
   "execution_count": 40,
   "metadata": {},
   "outputs": [
    {
     "name": "stdout",
     "output_type": "stream",
     "text": [
      "Building train...\n"
     ]
    },
    {
     "name": "stderr",
     "output_type": "stream",
     "text": [
      "100%|██████████| 10/10 [00:20<00:00,  2.03s/it]\n"
     ]
    },
    {
     "name": "stdout",
     "output_type": "stream",
     "text": [
      "Building val...\n"
     ]
    },
    {
     "name": "stderr",
     "output_type": "stream",
     "text": [
      "100%|██████████| 10/10 [00:10<00:00,  1.01s/it]\n"
     ]
    }
   ],
   "source": [
    "train_per = 0.7\n",
    "val_per = 1-train_per\n",
    "\n",
    "folders = os.listdir(\"/home/student/hw2_094295/aug_batches/\")\n",
    "\n",
    "chosen_augmentations = {}\n",
    "num_available_per_folder = {}\n",
    "for folder in folders:\n",
    "    chosen_augmentations[folder] = []\n",
    "    num_available_per_folder[folder] = len(os.listdir(f\"/home/student/hw2_094295/aug_batches/{folder}\"))-1\n",
    "\n",
    "# For train\n",
    "print(\"Building train...\")\n",
    "for label in tqdm(class_names):\n",
    "    counter = 113\n",
    "    while(counter <= train_per*1000):\n",
    "        for folder in folders:\n",
    "            if counter <= train_per*1000:\n",
    "                params = folder.split(\"_\")\n",
    "                if params[1] == label:\n",
    "                    if f\"{label}_{params[0]}_Regular.png\" in dict_train[label]:\n",
    "                        files = os.listdir(f\"/home/student/hw2_094295/aug_batches/{folder}/\")\n",
    "                        file = random.sample(files, 1)[0]\n",
    "                        while (file == f\"{label}_{params[0]}_Regular.png\" or file in chosen_augmentations[folder]) and num_available_per_folder[folder] > 0:\n",
    "                            file = random.sample(files, 1)[0]\n",
    "                        Image.open(f\"/home/student/hw2_094295/aug_batches/{folder}/{file}\")\\\n",
    "                            .save(f\"/home/student/hw2_094295/data/train/{label}/{file}\")\n",
    "                        chosen_augmentations[folder].append(file)\n",
    "                        num_available_per_folder[folder] -= 1\n",
    "                        counter += 1\n",
    "            else:\n",
    "                break\n",
    "\n",
    "# For val\n",
    "print(\"Building val...\")\n",
    "for label in tqdm(class_names):\n",
    "    counter = 113\n",
    "    while(counter <= val_per*1000):\n",
    "        for folder in folders:\n",
    "            if counter <= val_per*1000:\n",
    "                params = folder.split(\"_\")\n",
    "                if params[1] == label:\n",
    "                    if f\"{label}_{params[0]}_Regular.png\" in dict_val[label]:\n",
    "                        files = os.listdir(f\"/home/student/hw2_094295/aug_batches/{folder}/\")\n",
    "                        file = random.sample(files, 1)[0]\n",
    "                        while (file == f\"{label}_{params[0]}_Regular.png\" or file in chosen_augmentations[folder]) and num_available_per_folder[folder] > 0:\n",
    "                            file = random.sample(files, 1)[0]\n",
    "                        Image.open(f\"/home/student/hw2_094295/aug_batches/{folder}/{file}\")\\\n",
    "                            .save(f\"/home/student/hw2_094295/data/val/{label}/{file}\")\n",
    "                        chosen_augmentations[folder].append(file)\n",
    "                        num_available_per_folder[folder] -= 1\n",
    "                        counter += 1\n",
    "            else:\n",
    "                break"
   ]
  },
  {
   "cell_type": "code",
   "execution_count": null,
   "metadata": {},
   "outputs": [],
   "source": []
  },
  {
   "attachments": {},
   "cell_type": "markdown",
   "metadata": {},
   "source": [
    "# Training procedure"
   ]
  },
  {
   "cell_type": "code",
   "execution_count": 30,
   "metadata": {},
   "outputs": [],
   "source": [
    "def train_model(model, criterion, optimizer, scheduler, dataloaders, dataset_sizes, num_epochs=100):\n",
    "    \"\"\"Responsible for running the training and validation phases for the requested model.\"\"\"\n",
    "    since = time.time()\n",
    "\n",
    "    best_model_wts = copy.deepcopy(model.state_dict())\n",
    "    best_acc = 0.0\n",
    "    loss_dict = {'train': [], 'val': []}\n",
    "    acc_dict = {'train': [], 'val': []}\n",
    "\n",
    "    for epoch in tqdm(range(num_epochs)):\n",
    "        for phase in ['train', 'val']:\n",
    "            if phase == 'train':\n",
    "                model.train() \n",
    "            else:\n",
    "                model.eval()   \n",
    "\n",
    "            running_loss = 0.0\n",
    "            running_corrects = 0\n",
    "\n",
    "            for inputs, labels in dataloaders[phase]:\n",
    "                inputs = inputs.to(device)\n",
    "                labels = labels.to(device)\n",
    "\n",
    "                optimizer.zero_grad()\n",
    "\n",
    "                # track history only in train\n",
    "                with torch.set_grad_enabled(phase == 'train'):\n",
    "                    outputs = model(inputs)\n",
    "                    _, preds = torch.max(outputs, 1)\n",
    "                    loss = criterion(outputs, labels)\n",
    "\n",
    "                    # backward + optimize only if in training phase\n",
    "                    if phase == 'train':\n",
    "                        loss.backward()\n",
    "                        optimizer.step()\n",
    "\n",
    "                # statistics\n",
    "                running_loss += loss.item() * inputs.size(0)\n",
    "                running_corrects += torch.sum(preds == labels.data)\n",
    "            if phase == 'train':\n",
    "                scheduler.step()\n",
    "\n",
    "            epoch_loss = running_loss / dataset_sizes[phase]\n",
    "            epoch_acc = running_corrects.double() / dataset_sizes[phase]\n",
    "\n",
    "            acc_dict[phase].append(epoch_acc.item())\n",
    "            loss_dict[phase].append(epoch_loss)\n",
    "\n",
    "            if epoch%10 == 0:\n",
    "                print('{} Loss: {:.4f} Acc: {:.4f}'.format(\n",
    "                    phase, epoch_loss, epoch_acc))\n",
    "\n",
    "            # If the current epoch provides the best validation accuracy so far, save the model's weights.\n",
    "            if phase == 'val' and epoch_acc > best_acc:\n",
    "                best_acc = epoch_acc\n",
    "                best_model_wts = copy.deepcopy(model.state_dict())\n",
    "\n",
    "    time_elapsed = time.time() - since\n",
    "    print('Training complete in {:.0f}m {:.0f}s'.format(\n",
    "        time_elapsed // 60, time_elapsed % 60))\n",
    "    print('Best val Acc: {:4f}'.format(best_acc))\n",
    "\n",
    "    # load best model weights\n",
    "    model.load_state_dict(best_model_wts)\n",
    "\n",
    "    return model, loss_dict, acc_dict"
   ]
  },
  {
   "cell_type": "code",
   "execution_count": 31,
   "metadata": {},
   "outputs": [],
   "source": [
    "def save_attempt_to_csv(description, acc_dict):\n",
    "    f = open('/home/student/hw2_094295/attempts.csv', 'a')\n",
    "    writer = csv.writer(f)\n",
    "    writer.writerow([description, acc_dict, acc_dict[\"train\"][-1], acc_dict[\"val\"][-1]])\n",
    "    f.close()"
   ]
  },
  {
   "cell_type": "code",
   "execution_count": 85,
   "metadata": {},
   "outputs": [],
   "source": [
    "def run(desc_to_csv):\n",
    "\n",
    "    # Build dataloaders\n",
    "    original_train_dataset, original_val_dataset = load_datasets(train_dir, val_dir)\n",
    "    train_val_sets = torch.utils.data.ConcatDataset([original_train_dataset, original_val_dataset])\n",
    "    all_dataloader = torch.utils.data.DataLoader(train_val_sets, batch_size=BATCH_SIZE, shuffle=True)\n",
    "    train_size = int(0.8*len(train_val_sets))\n",
    "    val_size = len(train_val_sets)-train_size\n",
    "    train_dataset, val_dataset = torch.utils.data.random_split(train_val_sets, [train_size, val_size])\n",
    "    plt.imshow(original_train_dataset[0][0].permute(1,2,0))\n",
    "    plt.show()\n",
    "    raise()\n",
    "\n",
    "\n",
    "    class_names = original_train_dataset.classes\n",
    "    NUM_CLASSES = len(class_names)\n",
    "\n",
    "    # Dataloaders initialization\n",
    "    train_dataloader = torch.utils.data.DataLoader(train_dataset, batch_size=BATCH_SIZE, shuffle=True)\n",
    "    val_dataloader = torch.utils.data.DataLoader(val_dataset, batch_size=BATCH_SIZE, shuffle=True)\n",
    "    dataloaders = {'train': train_dataloader, 'val': val_dataloader}\n",
    "    dataset_sizes = {'train': len(train_dataset), 'val': len(val_dataset)}\n",
    "\n",
    "    #Define model and constants\n",
    "    model_ft = models.resnet50(pretrained=False)\n",
    "\n",
    "    num_ftrs = model_ft.fc.in_features\n",
    "    model_ft.fc = nn.Linear(num_ftrs, NUM_CLASSES)\n",
    "\n",
    "    model_ft = model_ft.to(device)\n",
    "\n",
    "    criterion = nn.CrossEntropyLoss()\n",
    "\n",
    "    optimizer_ft = optim.Adam(model_ft.parameters(), lr=LR)\n",
    "\n",
    "    exp_lr_scheduler = lr_scheduler.StepLR(optimizer_ft, step_size=5, gamma=0.1)\n",
    "\n",
    "    # Train the model\n",
    "    model_ft, loss_dict, acc_dict = train_model(model_ft, criterion, optimizer_ft, exp_lr_scheduler, dataloaders, dataset_sizes, num_epochs=NUM_EPOCHS)\n",
    "    save_attempt_to_csv(desc_to_csv, acc_dict)"
   ]
  },
  {
   "cell_type": "code",
   "execution_count": 90,
   "metadata": {},
   "outputs": [
    {
     "name": "stderr",
     "output_type": "stream",
     "text": [
      "Clipping input data to the valid range for imshow with RGB data ([0..1] for floats or [0..255] for integers).\n"
     ]
    },
    {
     "data": {
      "image/png": "[encoded data removed]",
      "text/plain": [
       "<Figure size 432x288 with 1 Axes>"
      ]
     },
     "metadata": {
      "needs_background": "light"
     },
     "output_type": "display_data"
    },
    {
     "ename": "TypeError",
     "evalue": "exceptions must derive from BaseException",
     "output_type": "error",
     "traceback": [
      "\u001b[0;31m---------------------------------------------------------------------------\u001b[0m",
      "\u001b[0;31mTypeError\u001b[0m                                 Traceback (most recent call last)",
      "\u001b[1;32m/home/student/hw2_094295/DS_LAB_hw2/main.ipynb Cell 10\u001b[0m in \u001b[0;36m<cell line: 1>\u001b[0;34m()\u001b[0m\n\u001b[0;32m----> <a href='vscode-notebook-cell://ssh-remote%2Bnlpgpu2022w-0002.westus.cloudapp.azure.com/home/student/hw2_094295/DS_LAB_hw2/main.ipynb#X16sdnNjb2RlLXJlbW90ZQ%3D%3D?line=0'>1</a>\u001b[0m run(\u001b[39m\"\u001b[39;49m\u001b[39mwith normalization, 80\u001b[39;49m\u001b[39m%\u001b[39;49m\u001b[39m train and 20\u001b[39;49m\u001b[39m%\u001b[39;49m\u001b[39m test\u001b[39;49m\u001b[39m\"\u001b[39;49m)\n",
      "\u001b[1;32m/home/student/hw2_094295/DS_LAB_hw2/main.ipynb Cell 10\u001b[0m in \u001b[0;36mrun\u001b[0;34m(desc_to_csv)\u001b[0m\n\u001b[1;32m      <a href='vscode-notebook-cell://ssh-remote%2Bnlpgpu2022w-0002.westus.cloudapp.azure.com/home/student/hw2_094295/DS_LAB_hw2/main.ipynb#X16sdnNjb2RlLXJlbW90ZQ%3D%3D?line=8'>9</a>\u001b[0m plt\u001b[39m.\u001b[39mimshow(original_train_dataset[\u001b[39m0\u001b[39m][\u001b[39m0\u001b[39m]\u001b[39m.\u001b[39mpermute(\u001b[39m1\u001b[39m,\u001b[39m2\u001b[39m,\u001b[39m0\u001b[39m))\n\u001b[1;32m     <a href='vscode-notebook-cell://ssh-remote%2Bnlpgpu2022w-0002.westus.cloudapp.azure.com/home/student/hw2_094295/DS_LAB_hw2/main.ipynb#X16sdnNjb2RlLXJlbW90ZQ%3D%3D?line=9'>10</a>\u001b[0m plt\u001b[39m.\u001b[39mshow()\n\u001b[0;32m---> <a href='vscode-notebook-cell://ssh-remote%2Bnlpgpu2022w-0002.westus.cloudapp.azure.com/home/student/hw2_094295/DS_LAB_hw2/main.ipynb#X16sdnNjb2RlLXJlbW90ZQ%3D%3D?line=10'>11</a>\u001b[0m \u001b[39mraise\u001b[39;00m()\n\u001b[1;32m     <a href='vscode-notebook-cell://ssh-remote%2Bnlpgpu2022w-0002.westus.cloudapp.azure.com/home/student/hw2_094295/DS_LAB_hw2/main.ipynb#X16sdnNjb2RlLXJlbW90ZQ%3D%3D?line=13'>14</a>\u001b[0m class_names \u001b[39m=\u001b[39m original_train_dataset\u001b[39m.\u001b[39mclasses\n\u001b[1;32m     <a href='vscode-notebook-cell://ssh-remote%2Bnlpgpu2022w-0002.westus.cloudapp.azure.com/home/student/hw2_094295/DS_LAB_hw2/main.ipynb#X16sdnNjb2RlLXJlbW90ZQ%3D%3D?line=14'>15</a>\u001b[0m NUM_CLASSES \u001b[39m=\u001b[39m \u001b[39mlen\u001b[39m(class_names)\n",
      "\u001b[0;31mTypeError\u001b[0m: exceptions must derive from BaseException"
     ]
    },
    {
     "name": "stderr",
     "output_type": "stream",
     "text": [
      "Bad pipe message: %s [b'\\x9e\\xb0\\x9f\\x87\\xf9\\xcb']\n",
      "Bad pipe message: %s [b'\\xc3\\xbd\\x9f\\xc0j\\xd4\\xfc\\xbe&\\xb1\\xb1bm\\\\\\x01M\\x96D\\x00\\x00|\\xc0,\\xc00\\x00\\xa3\\x00\\x9f\\xcc']\n",
      "Bad pipe message: %s [b\"\\xa8\\xcc\\xaa\\xc0\\xaf\\xc0\\xad\\xc0\\xa3\\xc0\\x9f\\xc0]\\xc0a\\xc0W\\xc0S\\xc0+\\xc0/\\x00\\xa2\\x00\\x9e\\xc0\\xae\\xc0\\xac\\xc0\\xa2\\xc0\\x9e\\xc0\\\\\\xc0`\\xc0V\\xc0R\\xc0$\\xc0(\\x00k\\x00j\\xc0#\\xc0'\\x00g\\x00@\\xc0\\n\\xc0\\x14\\x009\\x008\\xc0\\t\\xc0\\x13\\x003\\x002\\x00\\x9d\\xc0\\xa1\\xc0\\x9d\\xc0Q\\x00\\x9c\\xc0\\xa0\\xc0\\x9c\\xc0P\\x00=\\x00<\\x005\\x00/\\x00\\x9a\\x00\\x99\\xc0\\x07\\xc0\\x11\\x00\\x96\\x00\\x05\\x00\\xff\\x01\\x00\\x00j\\x00\\x00\\x00\\x0e\\x00\\x0c\\x00\\x00\\t127.0.0.1\\x00\\x0b\\x00\\x04\\x03\\x00\\x01\\x02\\x00\\n\\x00\\x0c\\x00\\n\\x00\\x1d\\x00\\x17\\x00\\x1e\\x00\\x19\\x00\\x18\\x00#\\x00\\x00\\x00\\x16\\x00\\x00\\x00\"]\n",
      "Bad pipe message: %s [b'\\x00\\x00\\r\\x000\\x00.\\x04\\x03\\x05\\x03\\x06\\x03\\x08\\x07\\x08\\x08\\x08\\t\\x08\\n\\x08']\n",
      "Bad pipe message: %s [b'\\x04\\x08\\x05\\x08\\x06\\x04\\x01\\x05\\x01\\x06']\n",
      "Bad pipe message: %s [b'', b'\\x03\\x03']\n",
      "Bad pipe message: %s [b'']\n",
      "Bad pipe message: %s [b'', b'\\x02']\n",
      "Bad pipe message: %s [b'\\t\\xa8\\x15\\xc2#\\xe3tz\\xcc\\x8b\\x90,\\xf0\\xac\\x08\\xf3-?\\x00\\x00\\xa2\\xc0\\x14\\xc0\\n\\x009\\x008\\x007\\x006\\x00\\x88\\x00\\x87\\x00\\x86\\x00\\x85\\xc0\\x19\\x00:\\x00\\x89\\xc0\\x0f\\xc0\\x05\\x005\\x00\\x84\\xc0\\x13\\xc0\\t\\x003\\x002\\x001\\x000\\x00\\x9a\\x00\\x99\\x00\\x98\\x00\\x97\\x00E\\x00D\\x00C\\x00B\\xc0\\x18\\x004\\x00\\x9b\\x00F\\xc0\\x0e\\xc0\\x04\\x00/\\x00\\x96\\x00A\\x00\\x07\\xc0\\x11\\xc0\\x07\\xc0\\x16\\x00\\x18\\xc0\\x0c\\xc0\\x02\\x00\\x05\\x00\\x04\\xc0\\x12\\xc0\\x08\\x00\\x16\\x00\\x13\\x00\\x10\\x00\\r\\xc0\\x17\\x00\\x1b\\xc0\\r\\xc0\\x03\\x00\\n\\x00\\x15\\x00\\x12\\x00\\x0f\\x00\\x0c\\x00\\x1a\\x00\\t\\x00\\x14\\x00\\x11\\x00\\x19\\x00\\x08\\x00\\x06\\x00\\x17\\x00', b'\\x10\\xc0']\n",
      "Bad pipe message: %s [b'\\x05\\x02\\x06']\n",
      "Bad pipe message: %s [b'\\x15\\xc0\\x0b\\xc0\\x01']\n",
      "Bad pipe message: %s [b'\\xa9Yo\\x184\\xaf\\x98i\\xa6D\\x8d\\x95osk\\xc3\\xfe\\xb6\\x00\\x00>\\xc0\\x14\\xc0\\n\\x009\\x008\\x007\\x006\\xc0\\x0f\\xc0\\x05\\x005\\xc0\\x13\\xc0\\t\\x003\\x002\\x001\\x000\\xc0\\x0e\\xc0\\x04\\x00/\\x00\\x9a\\x00\\x99\\x00\\x98\\x00\\x97\\x00\\x96\\x00\\x07\\xc0\\x11\\xc0\\x07\\xc0\\x0c\\xc0\\x02\\x00\\x05\\x00\\x04\\x00\\xff\\x02\\x01\\x00\\x00C\\x00\\x00\\x00\\x0e\\x00\\x0c\\x00\\x00\\t127.0.0.1\\x00\\x0b\\x00\\x04\\x03\\x00\\x01\\x02\\x00\\n\\x00\\x1c\\x00\\x1a\\x00\\x17\\x00\\x19\\x00\\x1c\\x00\\x1b\\x00\\x18\\x00\\x1a\\x00\\x16\\x00\\x0e\\x00\\r\\x00\\x0b\\x00\\x0c\\x00\\t\\x00', b'#\\x00\\x00\\x00\\x0f\\x00\\x01\\x01\\x15']\n",
      "Bad pipe message: %s [b'\\x1f\\x1a\\xab*h\\xc0\\x81t\\x12\\xbc1_@c\\xea\\x8d\\xc9\\xee\\x00\\x00\\xa2\\xc0\\x14\\xc0\\n\\x009\\x008\\x007\\x006\\x00\\x88\\x00\\x87\\x00\\x86\\x00\\x85\\xc0\\x19\\x00:\\x00\\x89\\xc0\\x0f\\xc0\\x05\\x005\\x00\\x84\\xc0\\x13\\xc0\\t\\x003\\x002\\x001\\x000\\x00\\x9a\\x00\\x99\\x00\\x98\\x00\\x97\\x00E\\x00D\\x00C\\x00B\\xc0\\x18\\x004\\x00\\x9b\\x00F\\xc0\\x0e\\xc0\\x04\\x00/\\x00\\x96\\x00A\\x00\\x07\\xc0\\x11\\xc0\\x07\\xc0\\x16\\x00\\x18\\xc0\\x0c\\xc0\\x02\\x00\\x05\\x00\\x04\\xc0\\x12\\xc0\\x08\\x00\\x16\\x00\\x13\\x00\\x10\\x00\\r\\xc0\\x17\\x00\\x1b\\xc0\\r\\xc0\\x03\\x00\\n\\x00\\x15\\x00\\x12\\x00\\x0f\\x00\\x0c\\x00\\x1a\\x00\\t\\x00\\x14\\x00\\x11\\x00\\x19\\x00\\x08\\x00\\x06\\x00\\x17\\x00\\x03\\xc0\\x10\\xc0\\x06\\xc0\\x15\\xc0\\x0b\\xc0\\x01\\x00\\x02\\x00\\x01\\x00\\xff\\x02\\x01\\x00\\x00C\\x00\\x00\\x00\\x0e\\x00\\x0c\\x00\\x00\\t127.0.0.1\\x00\\x0b\\x00\\x04\\x03\\x00\\x01\\x02\\x00\\n\\x00\\x1c\\x00\\x1a\\x00\\x17\\x00\\x19\\x00\\x1c\\x00\\x1b\\x00\\x18\\x00\\x1a\\x00\\x16\\x00\\x0e\\x00\\r\\x00\\x0b\\x00\\x0c\\x00\\t\\x00\\n\\x00#\\x00\\x00\\x00']\n",
      "Bad pipe message: %s [b'\\xe2\\xab\\x96/\\xcfq']\n",
      "Bad pipe message: %s [b\"M\\xa4l\\xc9_\\x14h\\x91\\x89\\xado\\xf0\\x17\\xa4o\\xed\\x8bX\\x00\\x00\\xf4\\xc00\\xc0,\\xc0(\\xc0$\\xc0\\x14\\xc0\\n\\x00\\xa5\\x00\\xa3\\x00\\xa1\\x00\\x9f\\x00k\\x00j\\x00i\\x00h\\x009\\x008\\x007\\x006\\x00\\x88\\x00\\x87\\x00\\x86\\x00\\x85\\xc0\\x19\\x00\\xa7\\x00m\\x00:\\x00\\x89\\xc02\\xc0.\\xc0*\\xc0&\\xc0\\x0f\\xc0\\x05\\x00\\x9d\\x00=\\x005\\x00\\x84\\xc0/\\xc0+\\xc0'\\xc0#\\xc0\\x13\\xc0\\t\\x00\\xa4\\x00\\xa2\\x00\\xa0\\x00\\x9e\\x00g\\x00@\\x00?\\x00\"]\n",
      "Bad pipe message: %s [b'3\\x002\\x001\\x000\\x00\\x9a\\x00\\x99\\x00\\x98\\x00\\x97\\x00E\\x00D\\x00C\\x00B\\xc0\\x18\\x00\\xa6\\x00l\\x004\\x00\\x9b\\x00F\\xc01\\xc0-\\xc0)\\xc0%\\xc0\\x0e\\xc0\\x04\\x00\\x9c\\x00<\\x00/\\x00\\x96\\x00A\\x00\\x07\\xc0\\x11']\n"
     ]
    }
   ],
   "source": [
    "run(\"with normalization, 80% train and 20% test\")"
   ]
  },
  {
   "cell_type": "code",
   "execution_count": 51,
   "metadata": {},
   "outputs": [
    {
     "data": {
      "image/png": "[encoded data removed]",
      "text/plain": [
       "<Figure size 432x288 with 1 Axes>"
      ]
     },
     "metadata": {
      "needs_background": "light"
     },
     "output_type": "display_data"
    },
    {
     "ename": "TypeError",
     "evalue": "exceptions must derive from BaseException",
     "output_type": "error",
     "traceback": [
      "\u001b[0;31m---------------------------------------------------------------------------\u001b[0m",
      "\u001b[0;31mTypeError\u001b[0m                                 Traceback (most recent call last)",
      "\u001b[1;32m/home/student/hw2_094295/DS_LAB_hw2/main.ipynb Cell 10\u001b[0m in \u001b[0;36m<cell line: 1>\u001b[0;34m()\u001b[0m\n\u001b[0;32m----> <a href='vscode-notebook-cell://ssh-remote%2Bnlpgpu2022w-0002.westus.cloudapp.azure.com/home/student/hw2_094295/DS_LAB_hw2/main.ipynb#X20sdnNjb2RlLXJlbW90ZQ%3D%3D?line=0'>1</a>\u001b[0m run(\u001b[39m\"\u001b[39;49m\u001b[39mwith normalization, 80\u001b[39;49m\u001b[39m%\u001b[39;49m\u001b[39m train and 20\u001b[39;49m\u001b[39m%\u001b[39;49m\u001b[39m test\u001b[39;49m\u001b[39m\"\u001b[39;49m)\n",
      "\u001b[1;32m/home/student/hw2_094295/DS_LAB_hw2/main.ipynb Cell 10\u001b[0m in \u001b[0;36mrun\u001b[0;34m(desc_to_csv)\u001b[0m\n\u001b[1;32m     <a href='vscode-notebook-cell://ssh-remote%2Bnlpgpu2022w-0002.westus.cloudapp.azure.com/home/student/hw2_094295/DS_LAB_hw2/main.ipynb#X20sdnNjb2RlLXJlbW90ZQ%3D%3D?line=9'>10</a>\u001b[0m plt\u001b[39m.\u001b[39mimshow(train_val_sets[\u001b[39m800\u001b[39m][\u001b[39m0\u001b[39m]\u001b[39m.\u001b[39mpermute(\u001b[39m1\u001b[39m,\u001b[39m2\u001b[39m,\u001b[39m0\u001b[39m))\n\u001b[1;32m     <a href='vscode-notebook-cell://ssh-remote%2Bnlpgpu2022w-0002.westus.cloudapp.azure.com/home/student/hw2_094295/DS_LAB_hw2/main.ipynb#X20sdnNjb2RlLXJlbW90ZQ%3D%3D?line=10'>11</a>\u001b[0m plt\u001b[39m.\u001b[39mshow()\n\u001b[0;32m---> <a href='vscode-notebook-cell://ssh-remote%2Bnlpgpu2022w-0002.westus.cloudapp.azure.com/home/student/hw2_094295/DS_LAB_hw2/main.ipynb#X20sdnNjb2RlLXJlbW90ZQ%3D%3D?line=11'>12</a>\u001b[0m \u001b[39mraise\u001b[39;00m()\n\u001b[1;32m     <a href='vscode-notebook-cell://ssh-remote%2Bnlpgpu2022w-0002.westus.cloudapp.azure.com/home/student/hw2_094295/DS_LAB_hw2/main.ipynb#X20sdnNjb2RlLXJlbW90ZQ%3D%3D?line=14'>15</a>\u001b[0m class_names \u001b[39m=\u001b[39m original_train_dataset\u001b[39m.\u001b[39mclasses\n\u001b[1;32m     <a href='vscode-notebook-cell://ssh-remote%2Bnlpgpu2022w-0002.westus.cloudapp.azure.com/home/student/hw2_094295/DS_LAB_hw2/main.ipynb#X20sdnNjb2RlLXJlbW90ZQ%3D%3D?line=15'>16</a>\u001b[0m NUM_CLASSES \u001b[39m=\u001b[39m \u001b[39mlen\u001b[39m(class_names)\n",
      "\u001b[0;31mTypeError\u001b[0m: exceptions must derive from BaseException"
     ]
    }
   ],
   "source": [
    "run(\"with normalization, 80% train and 20% test\")"
   ]
  },
  {
   "attachments": {},
   "cell_type": "markdown",
   "metadata": {},
   "source": [
    "## Saving the model and generating accuracy and loss plots"
   ]
  },
  {
   "cell_type": "code",
   "execution_count": 51,
   "metadata": {},
   "outputs": [
    {
     "data": {
      "image/png": "[encoded data removed]",
      "text/plain": [
       "<Figure size 1440x720 with 1 Axes>"
      ]
     },
     "metadata": {
      "needs_background": "light"
     },
     "output_type": "display_data"
    },
    {
     "data": {
      "image/png": "[encoded data removed]",
      "text/plain": [
       "<Figure size 1440x720 with 1 Axes>"
      ]
     },
     "metadata": {
      "needs_background": "light"
     },
     "output_type": "display_data"
    }
   ],
   "source": [
    "# Save the trained model\n",
    "models_dir = os.path.join('/home/student/hw2_094295', 'models')\n",
    "os.makedirs(models_dir, exist_ok=True)\n",
    "torch.save(model_ft.state_dict(), os.path.join(models_dir, \"trained_model.pt\"))\n",
    "\n",
    "figures_dir = os.path.join('/home/student/hw2_094295', 'figures')\n",
    "os.makedirs(figures_dir, exist_ok=True)\n",
    "\n",
    "# Basic visualizations of the model performance\n",
    "fig = plt.figure(figsize=(20,10))\n",
    "plt.title(\"Train - Validation Loss\")\n",
    "plt.plot(loss_dict['train'], label='train')\n",
    "plt.plot(loss_dict['val'], label='validation')\n",
    "plt.xlabel('num_epochs', fontsize=12)\n",
    "plt.ylabel('loss', fontsize=12)\n",
    "plt.legend(loc='best')\n",
    "plt.savefig(os.path.join(figures_dir, 'train_val_loss_plot.png'))\n",
    "\n",
    "fig = plt.figure(figsize=(20,10))\n",
    "plt.title(\"Train - Validation ACC\")\n",
    "plt.plot(acc_dict['train'], label='train')\n",
    "plt.plot(acc_dict['val'], label='validation')\n",
    "plt.xlabel('num_epochs', fontsize=12)\n",
    "plt.ylabel('ACC', fontsize=12)\n",
    "plt.legend(loc='best')\n",
    "plt.savefig(os.path.join(figures_dir, 'train_val_acc_plot.png'))"
   ]
  }
 ],
 "metadata": {
  "kernelspec": {
   "display_name": "hw_094295_env",
   "language": "python",
   "name": "python3"
  },
  "language_info": {
   "codemirror_mode": {
    "name": "ipython",
    "version": 3
   },
   "file_extension": ".py",
   "mimetype": "text/x-python",
   "name": "python",
   "nbconvert_exporter": "python",
   "pygments_lexer": "ipython3",
   "version": "3.9.12"
  },
  "orig_nbformat": 4
 },
 "nbformat": 4,
 "nbformat_minor": 2
}
