{
 "cells": [
  {
   "cell_type": "code",
   "execution_count": 32,
   "metadata": {
    "ExecuteTime": {
     "end_time": "2023-05-24T09:10:11.790496358Z",
     "start_time": "2023-05-24T09:10:11.264982305Z"
    },
    "pycharm": {
     "name": "#%%\n"
    }
   },
   "outputs": [
    {
     "data": {
      "image/png": "[encoded data removed]",
      "text/plain": [
       "<PIL.PngImagePlugin.PngImageFile image mode=L size=258x252 at 0x7F1C18296A00>"
      ]
     },
     "metadata": {},
     "output_type": "display_data"
    },
    {
     "name": "stdout",
     "output_type": "stream",
     "text": [
      "label: iii\n"
     ]
    }
   ],
   "source": [
    "import os\n",
    "from PIL import Image\n",
    "import argparse\n",
    "import torch\n",
    "import glob\n",
    "\n",
    "class MyDataset(torch.utils.data.Dataset):\n",
    "    def __init__(self, images_list, labels_list, augmentations_func=None):\n",
    "        super(MyDataset, self).__init__()\n",
    "        self.images = images_list\n",
    "        self.labels = labels_list\n",
    "        self.augmentations = augmentations_func\n",
    "\n",
    "    def __len__(self):\n",
    "        return len(self.images)\n",
    "\n",
    "    def __getitem__(self, idx):\n",
    "        image = self.images[idx]\n",
    "        label = self.labels[idx]\n",
    "        return image, label\n",
    "    \n",
    "def build_images_list(dir_path):\n",
    "    images_list = []\n",
    "    labels_list = [] \n",
    "    directory = glob.glob(os.path.join(dir_path, '*'))\n",
    "    for inner_dir in directory:\n",
    "        inner_dir_files = glob.glob(os.path.join(inner_dir, '*'))\n",
    "        for file_path in inner_dir_files:\n",
    "            image = Image.open(file_path)\n",
    "            images_list.append(image)\n",
    "            labels_list.append(inner_dir.split(\"/\")[-1])\n",
    "            \n",
    "    return images_list, labels_list\n",
    "            \n",
    "images_list_train, labels_list_train = build_images_list(\"/home/student/hw2_094295/data/train\")\n",
    "train_set = MyDataset(images_list_train, labels_list_train)\n",
    "train_set[0][0].show()\n",
    "print(f\"label: {train_set[0][1]}\")"
   ]
  },
  {
   "cell_type": "code",
   "execution_count": null,
   "metadata": {
    "pycharm": {
     "name": "#%%\n"
    }
   },
   "outputs": [],
   "source": []
  }
 ],
 "metadata": {
  "kernelspec": {
   "display_name": "Python 3 (ipykernel)",
   "language": "python",
   "name": "python3"
  },
  "language_info": {
   "codemirror_mode": {
    "name": "ipython",
    "version": 3
   },
   "file_extension": ".py",
   "mimetype": "text/x-python",
   "name": "python",
   "nbconvert_exporter": "python",
   "pygments_lexer": "ipython3",
   "version": "3.9.12"
  }
 },
 "nbformat": 4,
 "nbformat_minor": 1
}
