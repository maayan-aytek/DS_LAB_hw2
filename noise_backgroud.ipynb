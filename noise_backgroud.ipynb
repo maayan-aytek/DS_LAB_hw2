{
 "cells": [
  {
   "cell_type": "code",
   "execution_count": 12,
   "metadata": {},
   "outputs": [],
   "source": [
    "import copy\n",
    "import os\n",
    "import time\n",
    "from PIL import Image, ImageOps, ImageChops, ImageDraw, ImageFilter\n",
    "\n",
    "import matplotlib.pyplot as plt\n",
    "import numpy as np\n",
    "import torch\n",
    "import torch.nn as nn\n",
    "import torch.optim as optim\n",
    "import torchvision\n",
    "from torch.optim import lr_scheduler\n",
    "from torchvision import datasets, models, transforms\n",
    "from tqdm import tqdm\n",
    "import csv\n",
    "import cv2\n",
    "from torchvision.utils import save_image"
   ]
  },
  {
   "cell_type": "code",
   "execution_count": 2,
   "metadata": {},
   "outputs": [],
   "source": [
    "BATCH_SIZE = 16\n",
    "NUM_EPOCHS = 20\n",
    "LR = 0.001\n",
    "np.random.seed(0)\n",
    "torch.manual_seed(0)\n",
    "\n",
    "base_dir = os.path.join(\"/home/student/hw2_094295\", \"all_data\")\n",
    "device = torch.device(\"cuda:0\" if torch.cuda.is_available() else \"cpu\")"
   ]
  },
  {
   "cell_type": "code",
   "execution_count": 97,
   "metadata": {},
   "outputs": [],
   "source": [
    "def add_background_noise(source_path):\n",
    "    noise_path = \"/home/student/hw2_094295/noisy_background/noise_2.png\" # str(np.random.randint(0,20))+\".png\"\n",
    "    source_image = Image.open(source_path)\n",
    "    noise_image = Image.open(noise_path).resize(source_image.size)\n",
    "    random_choice = np.random.randint(1, 4)\n",
    "    if random_choice == 1:\n",
    "        noise_image = noise_image.transpose(Image.FLIP_TOP_BOTTOM)\n",
    "    elif random_choice == 2:\n",
    "        noise_image = ImageOps.mirror(noise_image)\n",
    "    else:\n",
    "        noise_image = noise_image.transpose(Image.FLIP_TOP_BOTTOM)\n",
    "        noise_image = ImageOps.mirror(noise_image)\n",
    "    mask = Image.new(\"L\", source_image.size, 80)\n",
    "    noisy_image = Image.composite(noise_image, source_image, mask)\n",
    "    # noisy_image_array = np.array(noisy_image)\n",
    "    # noisy_image_array = np.where(noisy_image_array < 255, 0, 255)\n",
    "    # noisy_image = Image.fromarray(noisy_image_array.astype('uint8')).convert(\"L\")\n",
    "    return noisy_image"
   ]
  },
  {
   "cell_type": "code",
   "execution_count": 98,
   "metadata": {},
   "outputs": [
    {
     "data": {
      "image/png": "[encoded data removed]",
      "text/plain": [
       "<Figure size 432x288 with 1 Axes>"
      ]
     },
     "metadata": {
      "needs_background": "light"
     },
     "output_type": "display_data"
    }
   ],
   "source": [
    "img_path = \"/home/student/hw2_094295/data/train/i/ab4e0182-ce5d-11eb-b317-38f9d35ea60f.png\"\n",
    "noisy_image = add_background_noise(img_path)\n",
    "noisy_image.save(\"/home/student/hw2_094295/exp.png\")\n",
    "plt.imshow(noisy_image, cmap=\"gray\")\n",
    "plt.show()"
   ]
  },
  {
   "cell_type": "code",
   "execution_count": null,
   "metadata": {},
   "outputs": [],
   "source": []
  }
 ],
 "metadata": {
  "kernelspec": {
   "display_name": "hw_094295_env",
   "language": "python",
   "name": "python3"
  },
  "language_info": {
   "codemirror_mode": {
    "name": "ipython",
    "version": 3
   },
   "file_extension": ".py",
   "mimetype": "text/x-python",
   "name": "python",
   "nbconvert_exporter": "python",
   "pygments_lexer": "ipython3",
   "version": "3.9.12"
  },
  "orig_nbformat": 4
 },
 "nbformat": 4,
 "nbformat_minor": 2
}
